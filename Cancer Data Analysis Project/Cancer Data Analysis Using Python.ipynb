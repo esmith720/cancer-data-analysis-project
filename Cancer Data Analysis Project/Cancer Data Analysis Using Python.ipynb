{
 "cells": [
  {
   "cell_type": "markdown",
   "metadata": {},
   "source": [
    "# Analyze Cancer Diagnoses By Stage with Python\n",
    "### Elaina Smith, 2019"
   ]
  },
  {
   "cell_type": "markdown",
   "metadata": {},
   "source": [
    "## Introduction: Late Diagnosis of Cancer Decreases Chance of Patient Survival\n",
    "* According to the National Cancer Institute, cancers of the lung and bronchus, colon and rectum, pancreas, and breast are estimated to cause the most cancer deaths in the year 2019 (1). \n",
    "* Early diagnosis of cancer yields better health outcomes than late diagnosis. \n",
    "\n",
    "## Objective: Identify Early and Late-Diagnosed Cancers\n",
    "* I want to find which of the four deadliest cancers tend to be diagnosed early in the localized stage, and which ones are usually diagnosed later in the distant stage when the cancer has spread more throughout the body.\n",
    "* My goal is to put data from these four cancers on a single chart so that the cancers are easy to compare."
   ]
  },
  {
   "cell_type": "markdown",
   "metadata": {},
   "source": [
    "## Import Pandas Library for Data Manipulation"
   ]
  },
  {
   "cell_type": "code",
   "execution_count": 73,
   "metadata": {},
   "outputs": [],
   "source": [
    "import pandas as pd"
   ]
  },
  {
   "cell_type": "markdown",
   "metadata": {},
   "source": [
    "## Import Pyplot Module from Matplotlib Library to Create Charts"
   ]
  },
  {
   "cell_type": "code",
   "execution_count": 74,
   "metadata": {},
   "outputs": [],
   "source": [
    "from matplotlib import pyplot as plt"
   ]
  },
  {
   "cell_type": "markdown",
   "metadata": {},
   "source": [
    "## Load Data from CSV Files into Variables\n",
    "* I used CSV files from The National Cancer Institute SEER*Explorer website (2)."
   ]
  },
  {
   "cell_type": "code",
   "execution_count": 75,
   "metadata": {},
   "outputs": [],
   "source": [
    "colonRectumCancerData = pd.read_csv('colonRectumCancerStages.csv')"
   ]
  },
  {
   "cell_type": "code",
   "execution_count": 76,
   "metadata": {},
   "outputs": [],
   "source": [
    "lungBronchusCancerData = pd.read_csv('lungBronchusCancerStages.csv')"
   ]
  },
  {
   "cell_type": "code",
   "execution_count": 77,
   "metadata": {},
   "outputs": [],
   "source": [
    "pancreaticCancerData = pd.read_csv('pancreaticCancerStages.csv')"
   ]
  },
  {
   "cell_type": "code",
   "execution_count": 78,
   "metadata": {},
   "outputs": [],
   "source": [
    "breastCancerData = pd.read_csv('breastCancerStages.csv')"
   ]
  },
  {
   "cell_type": "markdown",
   "metadata": {},
   "source": [
    "### *Example: The colonRectumCancerData Data Frame Only Holds Information on Colon and Rectum Cancers*"
   ]
  },
  {
   "cell_type": "code",
   "execution_count": 152,
   "metadata": {},
   "outputs": [
    {
     "data": {
      "text/html": [
       "<div>\n",
       "<style scoped>\n",
       "    .dataframe tbody tr th:only-of-type {\n",
       "        vertical-align: middle;\n",
       "    }\n",
       "\n",
       "    .dataframe tbody tr th {\n",
       "        vertical-align: top;\n",
       "    }\n",
       "\n",
       "    .dataframe thead th {\n",
       "        text-align: right;\n",
       "    }\n",
       "</style>\n",
       "<table border=\"1\" class=\"dataframe\">\n",
       "  <thead>\n",
       "    <tr style=\"text-align: right;\">\n",
       "      <th></th>\n",
       "      <th>Sex</th>\n",
       "      <th>Race/Ethnicity</th>\n",
       "      <th>Age</th>\n",
       "      <th>Stage</th>\n",
       "      <th>AgeadjustedRateper100000</th>\n",
       "      <th>Age-adjusted Rate Standard Error</th>\n",
       "      <th>Age-adjusted Rate Lower Confidence Interval</th>\n",
       "      <th>Age-adjusted Rate Upper Confidence Interval</th>\n",
       "    </tr>\n",
       "  </thead>\n",
       "  <tbody>\n",
       "    <tr>\n",
       "      <td>1</td>\n",
       "      <td>Both Sexes</td>\n",
       "      <td>All Races (includes Hispanic)</td>\n",
       "      <td>All Ages</td>\n",
       "      <td>Localized</td>\n",
       "      <td>14.7455</td>\n",
       "      <td>0.0485</td>\n",
       "      <td>14.6506</td>\n",
       "      <td>14.8408</td>\n",
       "    </tr>\n",
       "    <tr>\n",
       "      <td>2</td>\n",
       "      <td>Both Sexes</td>\n",
       "      <td>All Races (includes Hispanic)</td>\n",
       "      <td>All Ages</td>\n",
       "      <td>Regional</td>\n",
       "      <td>13.3238</td>\n",
       "      <td>0.0462</td>\n",
       "      <td>13.2334</td>\n",
       "      <td>13.4148</td>\n",
       "    </tr>\n",
       "    <tr>\n",
       "      <td>3</td>\n",
       "      <td>Both Sexes</td>\n",
       "      <td>All Races (includes Hispanic)</td>\n",
       "      <td>All Ages</td>\n",
       "      <td>Distant</td>\n",
       "      <td>8.0771</td>\n",
       "      <td>0.0359</td>\n",
       "      <td>8.0069</td>\n",
       "      <td>8.1479</td>\n",
       "    </tr>\n",
       "    <tr>\n",
       "      <td>6</td>\n",
       "      <td>Both Sexes</td>\n",
       "      <td>All Races (includes Hispanic)</td>\n",
       "      <td>Ages &lt; 50</td>\n",
       "      <td>Localized</td>\n",
       "      <td>2.5825</td>\n",
       "      <td>0.0263</td>\n",
       "      <td>2.5313</td>\n",
       "      <td>2.6345</td>\n",
       "    </tr>\n",
       "    <tr>\n",
       "      <td>7</td>\n",
       "      <td>Both Sexes</td>\n",
       "      <td>All Races (includes Hispanic)</td>\n",
       "      <td>Ages &lt; 50</td>\n",
       "      <td>Regional</td>\n",
       "      <td>2.7861</td>\n",
       "      <td>0.0274</td>\n",
       "      <td>2.7326</td>\n",
       "      <td>2.8404</td>\n",
       "    </tr>\n",
       "  </tbody>\n",
       "</table>\n",
       "</div>"
      ],
      "text/plain": [
       "          Sex                 Race/Ethnicity        Age      Stage  \\\n",
       "1  Both Sexes  All Races (includes Hispanic)   All Ages  Localized   \n",
       "2  Both Sexes  All Races (includes Hispanic)   All Ages   Regional   \n",
       "3  Both Sexes  All Races (includes Hispanic)   All Ages    Distant   \n",
       "6  Both Sexes  All Races (includes Hispanic)  Ages < 50  Localized   \n",
       "7  Both Sexes  All Races (includes Hispanic)  Ages < 50   Regional   \n",
       "\n",
       "  AgeadjustedRateper100000 Age-adjusted Rate Standard Error  \\\n",
       "1                  14.7455                           0.0485   \n",
       "2                  13.3238                           0.0462   \n",
       "3                   8.0771                           0.0359   \n",
       "6                   2.5825                           0.0263   \n",
       "7                   2.7861                           0.0274   \n",
       "\n",
       "  Age-adjusted Rate Lower Confidence Interval  \\\n",
       "1                                     14.6506   \n",
       "2                                     13.2334   \n",
       "3                                      8.0069   \n",
       "6                                      2.5313   \n",
       "7                                      2.7326   \n",
       "\n",
       "  Age-adjusted Rate Upper Confidence Interval  \n",
       "1                                     14.8408  \n",
       "2                                     13.4148  \n",
       "3                                      8.1479  \n",
       "6                                      2.6345  \n",
       "7                                      2.8404  "
      ]
     },
     "execution_count": 152,
     "metadata": {},
     "output_type": "execute_result"
    }
   ],
   "source": [
    "colonRectumCancerData.head()"
   ]
  },
  {
   "cell_type": "markdown",
   "metadata": {},
   "source": [
    "## Remove Rows with Values '-,' 'All Stages,' and 'Unstaged'"
   ]
  },
  {
   "cell_type": "code",
   "execution_count": 79,
   "metadata": {},
   "outputs": [],
   "source": [
    "colonRectumCancerData = colonRectumCancerData[(colonRectumCancerData.AgeadjustedRateper100000 != '-') & (colonRectumCancerData.Stage != 'All Stages') & (colonRectumCancerData.Stage != 'Unstaged')]"
   ]
  },
  {
   "cell_type": "code",
   "execution_count": 95,
   "metadata": {},
   "outputs": [],
   "source": [
    "lungBronchusCancerData = lungBronchusCancerData[(lungBronchusCancerData.AgeadjustedRateper100000 != '-') & (lungBronchusCancerData.Stage != 'All Stages') & (lungBronchusCancerData.Stage != 'Unstaged')]"
   ]
  },
  {
   "cell_type": "code",
   "execution_count": 111,
   "metadata": {},
   "outputs": [],
   "source": [
    "pancreaticCancerData = pancreaticCancerData[(pancreaticCancerData.AgeadjustedRateper100000 != '-') & (pancreaticCancerData.Stage != 'All Stages') & (pancreaticCancerData.Stage != 'Unstaged')]"
   ]
  },
  {
   "cell_type": "code",
   "execution_count": 127,
   "metadata": {},
   "outputs": [],
   "source": [
    "breastCancerData = breastCancerData[(breastCancerData.AgeadjustedRateper100000 != '-') & (breastCancerData.Stage != 'All Stages') & (breastCancerData.Stage != 'Unstaged')]"
   ]
  },
  {
   "cell_type": "markdown",
   "metadata": {},
   "source": [
    "## Organize Cancer Diagnosis Data By Stage: Localized, Regional, and Distant"
   ]
  },
  {
   "cell_type": "code",
   "execution_count": 80,
   "metadata": {},
   "outputs": [],
   "source": [
    "colonRectumLocalized = colonRectumCancerData[colonRectumCancerData.Stage == 'Localized']"
   ]
  },
  {
   "cell_type": "code",
   "execution_count": 84,
   "metadata": {},
   "outputs": [],
   "source": [
    "colonRectumRegional = colonRectumCancerData[colonRectumCancerData.Stage == 'Regional']"
   ]
  },
  {
   "cell_type": "code",
   "execution_count": 88,
   "metadata": {},
   "outputs": [],
   "source": [
    "colonRectumDistant = colonRectumCancerData[colonRectumCancerData.Stage == 'Distant']"
   ]
  },
  {
   "cell_type": "code",
   "execution_count": 96,
   "metadata": {},
   "outputs": [],
   "source": [
    "lungBronchusLocalized = lungBronchusCancerData[lungBronchusCancerData.Stage == 'Localized']"
   ]
  },
  {
   "cell_type": "code",
   "execution_count": 100,
   "metadata": {},
   "outputs": [],
   "source": [
    "lungBronchusRegional = lungBronchusCancerData[lungBronchusCancerData.Stage == 'Regional']"
   ]
  },
  {
   "cell_type": "code",
   "execution_count": 104,
   "metadata": {},
   "outputs": [],
   "source": [
    "lungBronchusDistant = lungBronchusCancerData[lungBronchusCancerData.Stage == 'Distant']"
   ]
  },
  {
   "cell_type": "code",
   "execution_count": 112,
   "metadata": {},
   "outputs": [],
   "source": [
    "pancreaticLocalized = pancreaticCancerData[pancreaticCancerData.Stage == 'Localized']"
   ]
  },
  {
   "cell_type": "code",
   "execution_count": 116,
   "metadata": {},
   "outputs": [],
   "source": [
    "pancreaticRegional = pancreaticCancerData[pancreaticCancerData.Stage == 'Regional']"
   ]
  },
  {
   "cell_type": "code",
   "execution_count": 120,
   "metadata": {},
   "outputs": [],
   "source": [
    "pancreaticDistant = pancreaticCancerData[pancreaticCancerData.Stage == 'Distant']"
   ]
  },
  {
   "cell_type": "code",
   "execution_count": 128,
   "metadata": {},
   "outputs": [],
   "source": [
    "breastLocalized = breastCancerData[breastCancerData.Stage == 'Localized']"
   ]
  },
  {
   "cell_type": "code",
   "execution_count": 132,
   "metadata": {},
   "outputs": [],
   "source": [
    "breastRegional = breastCancerData[breastCancerData.Stage == 'Regional']"
   ]
  },
  {
   "cell_type": "code",
   "execution_count": 136,
   "metadata": {},
   "outputs": [],
   "source": [
    "breastDistant = breastCancerData[breastCancerData.Stage == 'Distant']"
   ]
  },
  {
   "cell_type": "markdown",
   "metadata": {},
   "source": [
    "### *Example: The colonRectumLocalized Data Frame Has Details on Colon and Rectum Cancers Diagnosed at the Localized Stage*"
   ]
  },
  {
   "cell_type": "code",
   "execution_count": 154,
   "metadata": {},
   "outputs": [
    {
     "data": {
      "text/html": [
       "<div>\n",
       "<style scoped>\n",
       "    .dataframe tbody tr th:only-of-type {\n",
       "        vertical-align: middle;\n",
       "    }\n",
       "\n",
       "    .dataframe tbody tr th {\n",
       "        vertical-align: top;\n",
       "    }\n",
       "\n",
       "    .dataframe thead th {\n",
       "        text-align: right;\n",
       "    }\n",
       "</style>\n",
       "<table border=\"1\" class=\"dataframe\">\n",
       "  <thead>\n",
       "    <tr style=\"text-align: right;\">\n",
       "      <th></th>\n",
       "      <th>Sex</th>\n",
       "      <th>Race/Ethnicity</th>\n",
       "      <th>Age</th>\n",
       "      <th>Stage</th>\n",
       "      <th>AgeadjustedRateper100000</th>\n",
       "      <th>Age-adjusted Rate Standard Error</th>\n",
       "      <th>Age-adjusted Rate Lower Confidence Interval</th>\n",
       "      <th>Age-adjusted Rate Upper Confidence Interval</th>\n",
       "    </tr>\n",
       "  </thead>\n",
       "  <tbody>\n",
       "    <tr>\n",
       "      <td>1</td>\n",
       "      <td>Both Sexes</td>\n",
       "      <td>All Races (includes Hispanic)</td>\n",
       "      <td>All Ages</td>\n",
       "      <td>Localized</td>\n",
       "      <td>14.7455</td>\n",
       "      <td>0.0485</td>\n",
       "      <td>14.6506</td>\n",
       "      <td>14.8408</td>\n",
       "    </tr>\n",
       "    <tr>\n",
       "      <td>6</td>\n",
       "      <td>Both Sexes</td>\n",
       "      <td>All Races (includes Hispanic)</td>\n",
       "      <td>Ages &lt; 50</td>\n",
       "      <td>Localized</td>\n",
       "      <td>2.5825</td>\n",
       "      <td>0.0263</td>\n",
       "      <td>2.5313</td>\n",
       "      <td>2.6345</td>\n",
       "    </tr>\n",
       "    <tr>\n",
       "      <td>11</td>\n",
       "      <td>Both Sexes</td>\n",
       "      <td>All Races (includes Hispanic)</td>\n",
       "      <td>Ages 50-64</td>\n",
       "      <td>Localized</td>\n",
       "      <td>28.0014</td>\n",
       "      <td>0.1578</td>\n",
       "      <td>27.693</td>\n",
       "      <td>28.3123</td>\n",
       "    </tr>\n",
       "    <tr>\n",
       "      <td>16</td>\n",
       "      <td>Both Sexes</td>\n",
       "      <td>All Races (includes Hispanic)</td>\n",
       "      <td>Ages 65+</td>\n",
       "      <td>Localized</td>\n",
       "      <td>68.6583</td>\n",
       "      <td>0.2991</td>\n",
       "      <td>68.0733</td>\n",
       "      <td>69.2472</td>\n",
       "    </tr>\n",
       "    <tr>\n",
       "      <td>21</td>\n",
       "      <td>Both Sexes</td>\n",
       "      <td>All Races (includes Hispanic)</td>\n",
       "      <td>Ages &lt;15</td>\n",
       "      <td>Localized</td>\n",
       "      <td>0.1334</td>\n",
       "      <td>0.011</td>\n",
       "      <td>0.1128</td>\n",
       "      <td>0.1567</td>\n",
       "    </tr>\n",
       "  </tbody>\n",
       "</table>\n",
       "</div>"
      ],
      "text/plain": [
       "           Sex                 Race/Ethnicity         Age      Stage  \\\n",
       "1   Both Sexes  All Races (includes Hispanic)    All Ages  Localized   \n",
       "6   Both Sexes  All Races (includes Hispanic)   Ages < 50  Localized   \n",
       "11  Both Sexes  All Races (includes Hispanic)  Ages 50-64  Localized   \n",
       "16  Both Sexes  All Races (includes Hispanic)    Ages 65+  Localized   \n",
       "21  Both Sexes  All Races (includes Hispanic)    Ages <15  Localized   \n",
       "\n",
       "   AgeadjustedRateper100000 Age-adjusted Rate Standard Error  \\\n",
       "1                   14.7455                           0.0485   \n",
       "6                    2.5825                           0.0263   \n",
       "11                  28.0014                           0.1578   \n",
       "16                  68.6583                           0.2991   \n",
       "21                   0.1334                            0.011   \n",
       "\n",
       "   Age-adjusted Rate Lower Confidence Interval  \\\n",
       "1                                      14.6506   \n",
       "6                                       2.5313   \n",
       "11                                      27.693   \n",
       "16                                     68.0733   \n",
       "21                                      0.1128   \n",
       "\n",
       "   Age-adjusted Rate Upper Confidence Interval  \n",
       "1                                      14.8408  \n",
       "6                                       2.6345  \n",
       "11                                     28.3123  \n",
       "16                                     69.2472  \n",
       "21                                      0.1567  "
      ]
     },
     "execution_count": 154,
     "metadata": {},
     "output_type": "execute_result"
    }
   ],
   "source": [
    "colonRectumLocalized.head()"
   ]
  },
  {
   "cell_type": "markdown",
   "metadata": {},
   "source": [
    "## Select the 'Age-adjusted Rate per 100,000' Column"
   ]
  },
  {
   "cell_type": "markdown",
   "metadata": {},
   "source": [
    "* I removed spaces and punctuation from the names of columns I used to solve a syntax error.\n",
    "* I used the to_numeric() pandas method to convert the rate values from strings to floats."
   ]
  },
  {
   "cell_type": "code",
   "execution_count": 81,
   "metadata": {},
   "outputs": [],
   "source": [
    "colonRectumLocalizedRates = pd.to_numeric(colonRectumLocalized.AgeadjustedRateper100000)"
   ]
  },
  {
   "cell_type": "code",
   "execution_count": 85,
   "metadata": {},
   "outputs": [],
   "source": [
    "colonRectumRegionalRates = pd.to_numeric(colonRectumRegional.AgeadjustedRateper100000)"
   ]
  },
  {
   "cell_type": "code",
   "execution_count": 89,
   "metadata": {},
   "outputs": [],
   "source": [
    "colonRectumDistantRates = pd.to_numeric(colonRectumDistant.AgeadjustedRateper100000)"
   ]
  },
  {
   "cell_type": "code",
   "execution_count": 97,
   "metadata": {},
   "outputs": [],
   "source": [
    "lungBronchusLocalizedRates = pd.to_numeric(lungBronchusLocalized.AgeadjustedRateper100000)"
   ]
  },
  {
   "cell_type": "code",
   "execution_count": 101,
   "metadata": {},
   "outputs": [],
   "source": [
    "lungBronchusRegionalRates = pd.to_numeric(lungBronchusRegional.AgeadjustedRateper100000)"
   ]
  },
  {
   "cell_type": "code",
   "execution_count": 105,
   "metadata": {},
   "outputs": [],
   "source": [
    "lungBronchusDistantRates = pd.to_numeric(lungBronchusDistant.AgeadjustedRateper100000)"
   ]
  },
  {
   "cell_type": "code",
   "execution_count": 113,
   "metadata": {},
   "outputs": [],
   "source": [
    "pancreaticLocalizedRates = pd.to_numeric(pancreaticLocalized.AgeadjustedRateper100000)"
   ]
  },
  {
   "cell_type": "code",
   "execution_count": 117,
   "metadata": {},
   "outputs": [],
   "source": [
    "pancreaticRegionalRates = pd.to_numeric(pancreaticRegional.AgeadjustedRateper100000)"
   ]
  },
  {
   "cell_type": "code",
   "execution_count": 121,
   "metadata": {},
   "outputs": [],
   "source": [
    "pancreaticDistantRates = pd.to_numeric(pancreaticDistant.AgeadjustedRateper100000)"
   ]
  },
  {
   "cell_type": "code",
   "execution_count": 129,
   "metadata": {},
   "outputs": [],
   "source": [
    "breastLocalizedRates = pd.to_numeric(breastLocalized.AgeadjustedRateper100000)"
   ]
  },
  {
   "cell_type": "code",
   "execution_count": 133,
   "metadata": {},
   "outputs": [],
   "source": [
    "breastRegionalRates = pd.to_numeric(breastRegional.AgeadjustedRateper100000)"
   ]
  },
  {
   "cell_type": "code",
   "execution_count": 137,
   "metadata": {},
   "outputs": [],
   "source": [
    "breastDistantRates = pd.to_numeric(breastDistant.AgeadjustedRateper100000)"
   ]
  },
  {
   "cell_type": "code",
   "execution_count": 82,
   "metadata": {},
   "outputs": [],
   "source": [
    "colonRectumLocalizedMean = colonRectumLocalizedRates.mean()"
   ]
  },
  {
   "cell_type": "markdown",
   "metadata": {},
   "source": [
    "### *Example: The colonRectumLocalizedRates Series Has Information on the Average Number of Colon or Rectum Cancer Diagnoses per 100,000 People at the Localized Stage for Various Population Segments*"
   ]
  },
  {
   "cell_type": "code",
   "execution_count": 156,
   "metadata": {},
   "outputs": [
    {
     "data": {
      "text/plain": [
       "1     14.7455\n",
       "6      2.5825\n",
       "11    28.0014\n",
       "16    68.6583\n",
       "21     0.1334\n",
       "Name: AgeadjustedRateper100000, dtype: float64"
      ]
     },
     "execution_count": 156,
     "metadata": {},
     "output_type": "execute_result"
    }
   ],
   "source": [
    "colonRectumLocalizedRates.head()"
   ]
  },
  {
   "cell_type": "markdown",
   "metadata": {},
   "source": [
    "## Calculate Average Rates per 100,000 People Using the mean() Method"
   ]
  },
  {
   "cell_type": "code",
   "execution_count": 83,
   "metadata": {
    "scrolled": true
   },
   "outputs": [
    {
     "data": {
      "text/plain": [
       "29.037822631578955"
      ]
     },
     "execution_count": 83,
     "metadata": {},
     "output_type": "execute_result"
    }
   ],
   "source": [
    "colonRectumLocalizedMean"
   ]
  },
  {
   "cell_type": "code",
   "execution_count": 86,
   "metadata": {},
   "outputs": [],
   "source": [
    "colonRectumRegionalMean = colonRectumRegionalRates.mean()"
   ]
  },
  {
   "cell_type": "code",
   "execution_count": 87,
   "metadata": {},
   "outputs": [
    {
     "data": {
      "text/plain": [
       "28.15675333333332"
      ]
     },
     "execution_count": 87,
     "metadata": {},
     "output_type": "execute_result"
    }
   ],
   "source": [
    "colonRectumRegionalMean"
   ]
  },
  {
   "cell_type": "code",
   "execution_count": 90,
   "metadata": {},
   "outputs": [],
   "source": [
    "colonRectumDistantMean = colonRectumDistantRates.mean()"
   ]
  },
  {
   "cell_type": "code",
   "execution_count": 91,
   "metadata": {
    "scrolled": true
   },
   "outputs": [
    {
     "data": {
      "text/plain": [
       "18.44989520958084"
      ]
     },
     "execution_count": 91,
     "metadata": {},
     "output_type": "execute_result"
    }
   ],
   "source": [
    "colonRectumDistantMean"
   ]
  },
  {
   "cell_type": "code",
   "execution_count": 98,
   "metadata": {},
   "outputs": [],
   "source": [
    "lungBronchusLocalizedMean = lungBronchusLocalizedRates.mean()"
   ]
  },
  {
   "cell_type": "code",
   "execution_count": 99,
   "metadata": {
    "scrolled": true
   },
   "outputs": [
    {
     "data": {
      "text/plain": [
       "25.70350462427746"
      ]
     },
     "execution_count": 99,
     "metadata": {},
     "output_type": "execute_result"
    }
   ],
   "source": [
    "lungBronchusLocalizedMean"
   ]
  },
  {
   "cell_type": "code",
   "execution_count": 102,
   "metadata": {},
   "outputs": [],
   "source": [
    "lungBronchusRegionalMean = lungBronchusRegionalRates.mean()"
   ]
  },
  {
   "cell_type": "code",
   "execution_count": 103,
   "metadata": {},
   "outputs": [
    {
     "data": {
      "text/plain": [
       "27.400456287425147"
      ]
     },
     "execution_count": 103,
     "metadata": {},
     "output_type": "execute_result"
    }
   ],
   "source": [
    "lungBronchusRegionalMean"
   ]
  },
  {
   "cell_type": "code",
   "execution_count": 106,
   "metadata": {},
   "outputs": [],
   "source": [
    "lungBronchusDistantMean = lungBronchusDistantRates.mean()"
   ]
  },
  {
   "cell_type": "code",
   "execution_count": 107,
   "metadata": {
    "scrolled": true
   },
   "outputs": [
    {
     "data": {
      "text/plain": [
       "65.8136695121951"
      ]
     },
     "execution_count": 107,
     "metadata": {},
     "output_type": "execute_result"
    }
   ],
   "source": [
    "lungBronchusDistantMean"
   ]
  },
  {
   "cell_type": "code",
   "execution_count": 114,
   "metadata": {},
   "outputs": [],
   "source": [
    "pancreaticLocalizedMean = pancreaticLocalizedRates.mean()"
   ]
  },
  {
   "cell_type": "code",
   "execution_count": 115,
   "metadata": {
    "scrolled": true
   },
   "outputs": [
    {
     "data": {
      "text/plain": [
       "3.4814796052631576"
      ]
     },
     "execution_count": 115,
     "metadata": {},
     "output_type": "execute_result"
    }
   ],
   "source": [
    "pancreaticLocalizedMean"
   ]
  },
  {
   "cell_type": "code",
   "execution_count": 118,
   "metadata": {},
   "outputs": [],
   "source": [
    "pancreaticRegionalMean = pancreaticRegionalRates.mean()"
   ]
  },
  {
   "cell_type": "code",
   "execution_count": 119,
   "metadata": {},
   "outputs": [
    {
     "data": {
      "text/plain": [
       "9.196729220779224"
      ]
     },
     "execution_count": 119,
     "metadata": {},
     "output_type": "execute_result"
    }
   ],
   "source": [
    "pancreaticRegionalMean"
   ]
  },
  {
   "cell_type": "code",
   "execution_count": 122,
   "metadata": {},
   "outputs": [],
   "source": [
    "pancreaticDistantMean = pancreaticDistantRates.mean()"
   ]
  },
  {
   "cell_type": "code",
   "execution_count": 123,
   "metadata": {
    "scrolled": true
   },
   "outputs": [
    {
     "data": {
      "text/plain": [
       "15.862974074074081"
      ]
     },
     "execution_count": 123,
     "metadata": {},
     "output_type": "execute_result"
    }
   ],
   "source": [
    "pancreaticDistantMean"
   ]
  },
  {
   "cell_type": "code",
   "execution_count": 130,
   "metadata": {},
   "outputs": [],
   "source": [
    "breastLocalizedMean = breastLocalizedRates.mean()"
   ]
  },
  {
   "cell_type": "code",
   "execution_count": 131,
   "metadata": {
    "scrolled": true
   },
   "outputs": [
    {
     "data": {
      "text/plain": [
       "81.68493265306122"
      ]
     },
     "execution_count": 131,
     "metadata": {},
     "output_type": "execute_result"
    }
   ],
   "source": [
    "breastLocalizedMean"
   ]
  },
  {
   "cell_type": "code",
   "execution_count": 134,
   "metadata": {},
   "outputs": [],
   "source": [
    "breastRegionalMean = breastRegionalRates.mean()"
   ]
  },
  {
   "cell_type": "code",
   "execution_count": 135,
   "metadata": {},
   "outputs": [
    {
     "data": {
      "text/plain": [
       "32.37839797979797"
      ]
     },
     "execution_count": 135,
     "metadata": {},
     "output_type": "execute_result"
    }
   ],
   "source": [
    "breastRegionalMean"
   ]
  },
  {
   "cell_type": "code",
   "execution_count": 138,
   "metadata": {},
   "outputs": [],
   "source": [
    "breastDistantMean = breastDistantRates.mean()"
   ]
  },
  {
   "cell_type": "code",
   "execution_count": 139,
   "metadata": {
    "scrolled": true
   },
   "outputs": [
    {
     "data": {
      "text/plain": [
       "9.162250602409642"
      ]
     },
     "execution_count": 139,
     "metadata": {},
     "output_type": "execute_result"
    }
   ],
   "source": [
    "breastDistantMean"
   ]
  },
  {
   "cell_type": "markdown",
   "metadata": {},
   "source": [
    "## Put Cancer Stage Names into a List to be Used as X-coordinates"
   ]
  },
  {
   "cell_type": "code",
   "execution_count": 140,
   "metadata": {},
   "outputs": [],
   "source": [
    "cancerStages = [\"Localized\", \"Regional\", \"Distant\"]"
   ]
  },
  {
   "cell_type": "markdown",
   "metadata": {},
   "source": [
    "## Put the Mean Values into Lists to be Used as Corresponding Y-coordinates"
   ]
  },
  {
   "cell_type": "code",
   "execution_count": 93,
   "metadata": {},
   "outputs": [],
   "source": [
    "colonRectumRatesByStage = [29.037822631578955, 28.15675333333332, 18.44989520958084]"
   ]
  },
  {
   "cell_type": "code",
   "execution_count": 146,
   "metadata": {},
   "outputs": [],
   "source": [
    "lungBronchusRatesByStage = [25.70350462427746, 27.400456287425147, 65.8136695121951]"
   ]
  },
  {
   "cell_type": "code",
   "execution_count": 125,
   "metadata": {},
   "outputs": [],
   "source": [
    "pancreaticRatesByStage = [3.4814796052631576, 9.196729220779224, 15.862974074074081]"
   ]
  },
  {
   "cell_type": "code",
   "execution_count": 141,
   "metadata": {},
   "outputs": [],
   "source": [
    "breastRatesByStage = [81.68493265306122, 32.37839797979797, 9.162250602409642]"
   ]
  },
  {
   "cell_type": "markdown",
   "metadata": {},
   "source": [
    "## Individually, the Line Graphs Look Like This:"
   ]
  },
  {
   "cell_type": "code",
   "execution_count": 94,
   "metadata": {
    "scrolled": true
   },
   "outputs": [
    {
     "data": {
      "image/png": "[encoded data removed]",
      "text/plain": [
       "<Figure size 432x288 with 1 Axes>"
      ]
     },
     "metadata": {
      "needs_background": "light"
     },
     "output_type": "display_data"
    }
   ],
   "source": [
    "plt.plot(cancerStages, colonRectumRatesByStage)\n",
    "plt.show()"
   ]
  },
  {
   "cell_type": "code",
   "execution_count": 110,
   "metadata": {
    "scrolled": false
   },
   "outputs": [
    {
     "data": {
      "image/png": "[encoded data removed]",
      "text/plain": [
       "<Figure size 432x288 with 1 Axes>"
      ]
     },
     "metadata": {
      "needs_background": "light"
     },
     "output_type": "display_data"
    }
   ],
   "source": [
    "plt.plot(cancerStages, lungBronchusRatesByStage)\n",
    "plt.show()"
   ]
  },
  {
   "cell_type": "code",
   "execution_count": 126,
   "metadata": {
    "scrolled": true
   },
   "outputs": [
    {
     "data": {
      "image/png": "[encoded data removed]",
      "text/plain": [
       "<Figure size 432x288 with 1 Axes>"
      ]
     },
     "metadata": {
      "needs_background": "light"
     },
     "output_type": "display_data"
    }
   ],
   "source": [
    "plt.plot(cancerStages, pancreaticRatesByStage)\n",
    "plt.show()"
   ]
  },
  {
   "cell_type": "code",
   "execution_count": 142,
   "metadata": {
    "scrolled": false
   },
   "outputs": [
    {
     "data": {
      "image/png": "[encoded data removed]",
      "text/plain": [
       "<Figure size 432x288 with 1 Axes>"
      ]
     },
     "metadata": {
      "needs_background": "light"
     },
     "output_type": "display_data"
    }
   ],
   "source": [
    "plt.plot(cancerStages, breastRatesByStage)\n",
    "plt.show()"
   ]
  },
  {
   "cell_type": "markdown",
   "metadata": {},
   "source": [
    "## Plot Each of the Four Line Graphs on a Single Graph for Easier Comparison"
   ]
  },
  {
   "cell_type": "code",
   "execution_count": 143,
   "metadata": {
    "scrolled": true
   },
   "outputs": [
    {
     "data": {
      "image/png": "[encoded data removed]",
      "text/plain": [
       "<Figure size 432x288 with 1 Axes>"
      ]
     },
     "metadata": {
      "needs_background": "light"
     },
     "output_type": "display_data"
    }
   ],
   "source": [
    "plt.plot(cancerStages, colonRectumRatesByStage)\n",
    "plt.plot(cancerStages, lungBronchusRatesByStage)\n",
    "plt.plot(cancerStages, pancreaticRatesByStage)\n",
    "plt.plot(cancerStages, breastRatesByStage)\n",
    "plt.title(\"Cancer Stage at Diagnosis\")\n",
    "plt.xlabel(\"Stage\")\n",
    "plt.ylabel(\"Rate Per 100,000 People\")\n",
    "plt.legend([\"Colon and Rectum Cancer\", \"Lung and Bronchus Cancer\", \"Pancreatic Cancer\", \"Breast Cancer\"])\n",
    "plt.show()"
   ]
  },
  {
   "cell_type": "markdown",
   "metadata": {},
   "source": [
    "## Conclusion: Cancers are Not Diagnosed at the Same Stages"
   ]
  },
  {
   "cell_type": "markdown",
   "metadata": {},
   "source": [
    "* Breast cancer and colon and rectum cancers are usually diagnosed early as seen by the downward slopes of their line graphs.\n",
    "\n",
    "* Since their lines slope upwards, lung and bronchus cancer and pancreatic cancers tend to be diagnosed in the last stage."
   ]
  },
  {
   "cell_type": "markdown",
   "metadata": {},
   "source": [
    "## References\n",
    "* 1. https://seer.cancer.gov/statfacts/html/common.html\n",
    "* 2. https://seer.cancer.gov/explorer/"
   ]
  }
 ],
 "metadata": {
  "kernelspec": {
   "display_name": "Python 3",
   "language": "python",
   "name": "python3"
  },
  "language_info": {
   "codemirror_mode": {
    "name": "ipython",
    "version": 3
   },
   "file_extension": ".py",
   "mimetype": "text/x-python",
   "name": "python",
   "nbconvert_exporter": "python",
   "pygments_lexer": "ipython3",
   "version": "3.7.4"
  }
 },
 "nbformat": 4,
 "nbformat_minor": 2
}
